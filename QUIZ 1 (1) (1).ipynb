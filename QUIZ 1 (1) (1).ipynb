{
 "cells": [
  {
   "cell_type": "markdown",
   "metadata": {
    "collapsed": true
   },
   "source": [
    "# QUIZ\n",
    "Let's test your knowledge!"
   ]
  },
  {
   "cell_type": "markdown",
   "metadata": {},
   "source": [
    "_____\n",
    "**Use <code>for</code>, .split(), and <code>if</code> to create a Statement that will print out words that start with 's':**"
   ]
  },
  {
   "cell_type": "code",
   "execution_count": null,
   "metadata": {},
   "outputs": [],
   "source": [
    "st = 'Print only the words that start with s in this sentence'"
   ]
  },
  {
   "cell_type": "code",
   "execution_count": 33,
   "metadata": {},
   "outputs": [
    {
     "ename": "NameError",
     "evalue": "name 'st' is not defined",
     "output_type": "error",
     "traceback": [
      "\u001b[1;31m---------------------------------------------------------------------------\u001b[0m",
      "\u001b[1;31mNameError\u001b[0m                                 Traceback (most recent call last)",
      "Input \u001b[1;32mIn [33]\u001b[0m, in \u001b[0;36m<cell line: 1>\u001b[1;34m()\u001b[0m\n\u001b[1;32m----> 1\u001b[0m \u001b[38;5;28;01mfor\u001b[39;00m leter \u001b[38;5;129;01min\u001b[39;00m \u001b[43mst\u001b[49m:\n\u001b[0;32m      2\u001b[0m     \u001b[38;5;28mprint\u001b[39m(st)\n",
      "\u001b[1;31mNameError\u001b[0m: name 'st' is not defined"
     ]
    }
   ],
   "source": [
    "\n",
    "for leter in st:\n",
    "    print(st)"
   ]
  },
  {
   "cell_type": "markdown",
   "metadata": {},
   "source": [
    "______\n",
    "**Use range() to print all the even numbers from 0 to 10.**"
   ]
  },
  {
   "cell_type": "code",
   "execution_count": 5,
   "metadata": {},
   "outputs": [
    {
     "name": "stdout",
     "output_type": "stream",
     "text": [
      "0\n",
      "2\n",
      "4\n",
      "6\n",
      "8\n",
      "10\n"
     ]
    }
   ],
   "source": [
    "x=range(11)\n",
    "for y in x: ## for loop ofrange \n",
    "    if y%2==0:##even number\n",
    "        print(y)\n"
   ]
  },
  {
   "cell_type": "markdown",
   "metadata": {},
   "source": [
    "___\n",
    "**Use a List Comprehension to create a list of all numbers between 1 and 50 that are divisible by 3.**"
   ]
  },
  {
   "cell_type": "code",
   "execution_count": 10,
   "metadata": {},
   "outputs": [
    {
     "data": {
      "text/plain": [
       "[1,\n",
       " 2,\n",
       " 3,\n",
       " 4,\n",
       " 5,\n",
       " 6,\n",
       " 7,\n",
       " 8,\n",
       " 9,\n",
       " 10,\n",
       " 11,\n",
       " 12,\n",
       " 13,\n",
       " 14,\n",
       " 15,\n",
       " 16,\n",
       " 17,\n",
       " 18,\n",
       " 19,\n",
       " 20,\n",
       " 21,\n",
       " 22,\n",
       " 23,\n",
       " 24,\n",
       " 25,\n",
       " 26,\n",
       " 27,\n",
       " 28,\n",
       " 29,\n",
       " 30,\n",
       " 31,\n",
       " 32,\n",
       " 33,\n",
       " 34,\n",
       " 35,\n",
       " 36,\n",
       " 37,\n",
       " 38,\n",
       " 39,\n",
       " 40,\n",
       " 41,\n",
       " 42,\n",
       " 43,\n",
       " 44,\n",
       " 45,\n",
       " 46,\n",
       " 47,\n",
       " 48,\n",
       " 49,\n",
       " 50]"
      ]
     },
     "execution_count": 10,
     "metadata": {},
     "output_type": "execute_result"
    }
   ],
   "source": [
    "x= list(range(1,51))  #list of all numbers between 1and 50\n",
    "\n",
    "\n",
    "\n"
   ]
  },
  {
   "cell_type": "markdown",
   "metadata": {},
   "source": [
    "_____\n",
    "**Go through the string below and if the length of a word is even print \"even!\"**"
   ]
  },
  {
   "cell_type": "code",
   "execution_count": null,
   "metadata": {},
   "outputs": [],
   "source": [
    "st = 'Print every word in this sentence that has an even number of letters'"
   ]
  },
  {
   "cell_type": "code",
   "execution_count": 32,
   "metadata": {},
   "outputs": [
    {
     "name": "stdout",
     "output_type": "stream",
     "text": [
      "['Print', 'every', 'word', 'in', 'this', 'sentence', 'that', 'has', 'an ', 'even', ' number', ' of', 'letters']\n"
     ]
    }
   ],
   "source": [
    "list=['Print', 'every','word', 'in', 'this', 'sentence','that','has','an ','even',' number',' of', 'letters']\n"
   ]
  },
  {
   "cell_type": "markdown",
   "metadata": {},
   "source": [
    "____\n",
    "**Write a program that prints the integers from 1 to 100. But for multiples of three print \"Fizz\" instead of the number, and for the multiples of five print \"Buzz\". For numbers which are multiples of both three and five print \"FizzBuzz\".**"
   ]
  },
  {
   "cell_type": "code",
   "execution_count": 21,
   "metadata": {},
   "outputs": [
    {
     "name": "stdout",
     "output_type": "stream",
     "text": [
      "1\n",
      "fizzBuzz\n",
      "2\n",
      "fizzBuzz\n",
      "3\n",
      "fizz\n",
      "4\n",
      "fizzBuzz\n",
      "5\n",
      "Buzz\n",
      "6\n",
      "fizz\n",
      "7\n",
      "fizzBuzz\n",
      "8\n",
      "fizzBuzz\n",
      "9\n",
      "fizz\n",
      "10\n",
      "Buzz\n",
      "11\n",
      "fizzBuzz\n",
      "12\n",
      "fizz\n",
      "13\n",
      "fizzBuzz\n",
      "14\n",
      "fizzBuzz\n",
      "15\n",
      "fizz\n",
      "16\n",
      "fizzBuzz\n",
      "17\n",
      "fizzBuzz\n",
      "18\n",
      "fizz\n",
      "19\n",
      "fizzBuzz\n",
      "20\n",
      "Buzz\n",
      "21\n",
      "fizz\n",
      "22\n",
      "fizzBuzz\n",
      "23\n",
      "fizzBuzz\n",
      "24\n",
      "fizz\n",
      "25\n",
      "Buzz\n",
      "26\n",
      "fizzBuzz\n",
      "27\n",
      "fizz\n",
      "28\n",
      "fizzBuzz\n",
      "29\n",
      "fizzBuzz\n",
      "30\n",
      "fizz\n",
      "31\n",
      "fizzBuzz\n",
      "32\n",
      "fizzBuzz\n",
      "33\n",
      "fizz\n",
      "34\n",
      "fizzBuzz\n",
      "35\n",
      "Buzz\n",
      "36\n",
      "fizz\n",
      "37\n",
      "fizzBuzz\n",
      "38\n",
      "fizzBuzz\n",
      "39\n",
      "fizz\n",
      "40\n",
      "Buzz\n",
      "41\n",
      "fizzBuzz\n",
      "42\n",
      "fizz\n",
      "43\n",
      "fizzBuzz\n",
      "44\n",
      "fizzBuzz\n",
      "45\n",
      "fizz\n",
      "46\n",
      "fizzBuzz\n",
      "47\n",
      "fizzBuzz\n",
      "48\n",
      "fizz\n",
      "49\n",
      "fizzBuzz\n",
      "50\n",
      "Buzz\n",
      "51\n",
      "fizz\n",
      "52\n",
      "fizzBuzz\n",
      "53\n",
      "fizzBuzz\n",
      "54\n",
      "fizz\n",
      "55\n",
      "Buzz\n",
      "56\n",
      "fizzBuzz\n",
      "57\n",
      "fizz\n",
      "58\n",
      "fizzBuzz\n",
      "59\n",
      "fizzBuzz\n",
      "60\n",
      "fizz\n",
      "61\n",
      "fizzBuzz\n",
      "62\n",
      "fizzBuzz\n",
      "63\n",
      "fizz\n",
      "64\n",
      "fizzBuzz\n",
      "65\n",
      "Buzz\n",
      "66\n",
      "fizz\n",
      "67\n",
      "fizzBuzz\n",
      "68\n",
      "fizzBuzz\n",
      "69\n",
      "fizz\n",
      "70\n",
      "Buzz\n",
      "71\n",
      "fizzBuzz\n",
      "72\n",
      "fizz\n",
      "73\n",
      "fizzBuzz\n",
      "74\n",
      "fizzBuzz\n",
      "75\n",
      "fizz\n",
      "76\n",
      "fizzBuzz\n",
      "77\n",
      "fizzBuzz\n",
      "78\n",
      "fizz\n",
      "79\n",
      "fizzBuzz\n",
      "80\n",
      "Buzz\n",
      "81\n",
      "fizz\n",
      "82\n",
      "fizzBuzz\n",
      "83\n",
      "fizzBuzz\n",
      "84\n",
      "fizz\n",
      "85\n",
      "Buzz\n",
      "86\n",
      "fizzBuzz\n",
      "87\n",
      "fizz\n",
      "88\n",
      "fizzBuzz\n",
      "89\n",
      "fizzBuzz\n",
      "90\n",
      "fizz\n",
      "91\n",
      "fizzBuzz\n",
      "92\n",
      "fizzBuzz\n",
      "93\n",
      "fizz\n",
      "94\n",
      "fizzBuzz\n",
      "95\n",
      "Buzz\n",
      "96\n",
      "fizz\n",
      "97\n",
      "fizzBuzz\n",
      "98\n",
      "fizzBuzz\n",
      "99\n",
      "fizz\n",
      "100\n",
      "Buzz\n"
     ]
    }
   ],
   "source": [
    "x=list(range(1,101)) ## list for range 1:100\n",
    "for i in x:\n",
    " \n",
    "        print(i)\n",
    "        if i%3==0: ## multiples of three print \"Fizz\"\n",
    "            print('fizz')\n",
    "        elif i%5==0: ##multiples of five print\"Buzz\"\n",
    "             print('Buzz')\n",
    "        else:           ##For numbers which are multiples of both three and five print \"FizzBuzz\"\n",
    "             print('fizzBuzz')"
   ]
  },
  {
   "cell_type": "markdown",
   "metadata": {},
   "source": [
    "____\n",
    "**Use List Comprehension to create a list of the first letters of every word in the string below:**"
   ]
  },
  {
   "cell_type": "code",
   "execution_count": null,
   "metadata": {},
   "outputs": [],
   "source": [
    "st = 'Create a list of the first letters of every word in this string'"
   ]
  },
  {
   "cell_type": "code",
   "execution_count": 12,
   "metadata": {},
   "outputs": [
    {
     "ename": "NameError",
     "evalue": "name 'st' is not defined",
     "output_type": "error",
     "traceback": [
      "\u001b[1;31m---------------------------------------------------------------------------\u001b[0m",
      "\u001b[1;31mNameError\u001b[0m                                 Traceback (most recent call last)",
      "Input \u001b[1;32mIn [12]\u001b[0m, in \u001b[0;36m<cell line: 1>\u001b[1;34m()\u001b[0m\n\u001b[1;32m----> 1\u001b[0m x \u001b[38;5;241m=\u001b[39m\u001b[38;5;28mlist\u001b[39m(\u001b[43mst\u001b[49m)\n\u001b[0;32m      2\u001b[0m x\n",
      "\u001b[1;31mNameError\u001b[0m: name 'st' is not defined"
     ]
    }
   ],
   "source": [
    "for letters in st:\n",
    "    "
   ]
  },
  {
   "cell_type": "markdown",
   "metadata": {},
   "source": [
    "### Great Job!"
   ]
  }
 ],
 "metadata": {
  "kernelspec": {
   "display_name": "Python 3 (ipykernel)",
   "language": "python",
   "name": "python3"
  },
  "language_info": {
   "codemirror_mode": {
    "name": "ipython",
    "version": 3
   },
   "file_extension": ".py",
   "mimetype": "text/x-python",
   "name": "python",
   "nbconvert_exporter": "python",
   "pygments_lexer": "ipython3",
   "version": "3.9.12"
  }
 },
 "nbformat": 4,
 "nbformat_minor": 1
}
